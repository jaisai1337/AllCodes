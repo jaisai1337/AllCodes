{
 "cells": [
  {
   "cell_type": "code",
   "execution_count": null,
   "metadata": {},
   "outputs": [],
   "source": [
    "'''\n",
    "Syntax to pass to the .select() method   Match Results\n",
    "\n",
    "soup.select('div')    All elements with the <div> tag\n",
    "\n",
    "soup.select('#some_id')   The HTML element containing the id attribute of some_id\n",
    "\n",
    "soup.select('.notice')   All the HTML elements with the CSS class named notice\n",
    "\n",
    "soup.select('div span')   Any elements named <span> that are within an element named <div>\n",
    "\n",
    "soup.select('div > span')   Any elements named <span> that are directly within an element named <div>, with no other element in between'''"
   ]
  }
 ],
 "metadata": {
  "language_info": {
   "name": "python"
  },
  "orig_nbformat": 4
 },
 "nbformat": 4,
 "nbformat_minor": 2
}
