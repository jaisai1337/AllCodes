{
 "cells": [
  {
   "cell_type": "code",
   "execution_count": 56,
   "metadata": {},
   "outputs": [],
   "source": [
    "import requests\n",
    "import lxml\n",
    "import bs4\n",
    "\n",
    "res = requests.get('https://en.wikipedia.org/wiki/Jonas_Salk')"
   ]
  },
  {
   "cell_type": "code",
   "execution_count": 57,
   "metadata": {},
   "outputs": [
    {
     "data": {
      "text/plain": [
       "<Response [200]>"
      ]
     },
     "execution_count": 57,
     "metadata": {},
     "output_type": "execute_result"
    }
   ],
   "source": [
    "res"
   ]
  },
  {
   "cell_type": "code",
   "execution_count": 58,
   "metadata": {},
   "outputs": [
    {
     "data": {
      "text/plain": [
       "[<a class=\"image\" href=\"/wiki/File:Jonas_Salk_candid.jpg\"><img alt=\"Jonas Salk candid.jpg\" data-file-height=\"1310\" data-file-width=\"1003\" decoding=\"async\" height=\"287\" src=\"//upload.wikimedia.org/wikipedia/commons/thumb/5/59/Jonas_Salk_candid.jpg/220px-Jonas_Salk_candid.jpg\" srcset=\"//upload.wikimedia.org/wikipedia/commons/thumb/5/59/Jonas_Salk_candid.jpg/330px-Jonas_Salk_candid.jpg 1.5x, //upload.wikimedia.org/wikipedia/commons/thumb/5/59/Jonas_Salk_candid.jpg/440px-Jonas_Salk_candid.jpg 2x\" width=\"220\"/></a>,\n",
       " <a class=\"image\" href=\"/wiki/File:Jonas_Salk_signature.svg\"><img alt=\"Jonas Salk signature.svg\" data-file-height=\"278\" data-file-width=\"585\" decoding=\"async\" height=\"71\" src=\"//upload.wikimedia.org/wikipedia/commons/thumb/4/4a/Jonas_Salk_signature.svg/150px-Jonas_Salk_signature.svg.png\" srcset=\"//upload.wikimedia.org/wikipedia/commons/thumb/4/4a/Jonas_Salk_signature.svg/225px-Jonas_Salk_signature.svg.png 1.5x, //upload.wikimedia.org/wikipedia/commons/thumb/4/4a/Jonas_Salk_signature.svg/300px-Jonas_Salk_signature.svg.png 2x\" width=\"150\"/></a>,\n",
       " <a class=\"image\" href=\"/wiki/File:Roosevelt_OConnor.jpg\"><img alt=\"\" class=\"thumbimage\" data-file-height=\"498\" data-file-width=\"600\" decoding=\"async\" height=\"183\" src=\"//upload.wikimedia.org/wikipedia/commons/thumb/3/3c/Roosevelt_OConnor.jpg/220px-Roosevelt_OConnor.jpg\" srcset=\"//upload.wikimedia.org/wikipedia/commons/thumb/3/3c/Roosevelt_OConnor.jpg/330px-Roosevelt_OConnor.jpg 1.5x, //upload.wikimedia.org/wikipedia/commons/thumb/3/3c/Roosevelt_OConnor.jpg/440px-Roosevelt_OConnor.jpg 2x\" width=\"220\"/></a>,\n",
       " <a class=\"image\" href=\"/wiki/File:SalkatPitt.jpg\"><img alt=\"\" class=\"thumbimage\" data-file-height=\"309\" data-file-width=\"250\" decoding=\"async\" height=\"210\" src=\"//upload.wikimedia.org/wikipedia/commons/thumb/c/ca/SalkatPitt.jpg/170px-SalkatPitt.jpg\" srcset=\"//upload.wikimedia.org/wikipedia/commons/c/ca/SalkatPitt.jpg 1.5x\" width=\"170\"/></a>,\n",
       " <a class=\"image\" href=\"/wiki/File:Salk-child-Karsh.jpg\"><img alt=\"\" class=\"thumbimage\" data-file-height=\"580\" data-file-width=\"600\" decoding=\"async\" height=\"213\" src=\"//upload.wikimedia.org/wikipedia/en/thumb/e/e4/Salk-child-Karsh.jpg/220px-Salk-child-Karsh.jpg\" srcset=\"//upload.wikimedia.org/wikipedia/en/thumb/e/e4/Salk-child-Karsh.jpg/330px-Salk-child-Karsh.jpg 1.5x, //upload.wikimedia.org/wikipedia/en/thumb/e/e4/Salk-child-Karsh.jpg/440px-Salk-child-Karsh.jpg 2x\" width=\"220\"/></a>,\n",
       " <a class=\"image\" href=\"/wiki/File:Salk_March_of_Dimes_poster.jpg\"><img alt=\"\" class=\"thumbimage\" data-file-height=\"402\" data-file-width=\"331\" decoding=\"async\" height=\"267\" src=\"//upload.wikimedia.org/wikipedia/commons/thumb/7/7a/Salk_March_of_Dimes_poster.jpg/220px-Salk_March_of_Dimes_poster.jpg\" srcset=\"//upload.wikimedia.org/wikipedia/commons/thumb/7/7a/Salk_March_of_Dimes_poster.jpg/330px-Salk_March_of_Dimes_poster.jpg 1.5x, //upload.wikimedia.org/wikipedia/commons/7/7a/Salk_March_of_Dimes_poster.jpg 2x\" width=\"220\"/></a>,\n",
       " <a class=\"image\" href=\"/wiki/File:Ben_Gurion_-_Jonas_Salk_-_Jerusalem_1959.jpg\"><img alt=\"\" class=\"thumbimage\" data-file-height=\"3072\" data-file-width=\"2048\" decoding=\"async\" height=\"255\" src=\"//upload.wikimedia.org/wikipedia/commons/thumb/2/21/Ben_Gurion_-_Jonas_Salk_-_Jerusalem_1959.jpg/170px-Ben_Gurion_-_Jonas_Salk_-_Jerusalem_1959.jpg\" srcset=\"//upload.wikimedia.org/wikipedia/commons/thumb/2/21/Ben_Gurion_-_Jonas_Salk_-_Jerusalem_1959.jpg/255px-Ben_Gurion_-_Jonas_Salk_-_Jerusalem_1959.jpg 1.5x, //upload.wikimedia.org/wikipedia/commons/thumb/2/21/Ben_Gurion_-_Jonas_Salk_-_Jerusalem_1959.jpg/340px-Ben_Gurion_-_Jonas_Salk_-_Jerusalem_1959.jpg 2x\" width=\"170\"/></a>,\n",
       " <a class=\"image\" href=\"/wiki/File:Salk_Institute1.jpg\"><img alt=\"\" class=\"thumbimage\" data-file-height=\"1200\" data-file-width=\"1600\" decoding=\"async\" height=\"180\" src=\"//upload.wikimedia.org/wikipedia/commons/thumb/d/d4/Salk_Institute1.jpg/240px-Salk_Institute1.jpg\" srcset=\"//upload.wikimedia.org/wikipedia/commons/thumb/d/d4/Salk_Institute1.jpg/360px-Salk_Institute1.jpg 1.5x, //upload.wikimedia.org/wikipedia/commons/thumb/d/d4/Salk_Institute1.jpg/480px-Salk_Institute1.jpg 2x\" width=\"240\"/></a>,\n",
       " <a class=\"image\" href=\"/wiki/File:Jonas_Salk_1988.jpg\"><img alt=\"\" class=\"thumbimage\" data-file-height=\"1788\" data-file-width=\"1503\" decoding=\"async\" height=\"238\" src=\"//upload.wikimedia.org/wikipedia/commons/thumb/1/13/Jonas_Salk_1988.jpg/200px-Jonas_Salk_1988.jpg\" srcset=\"//upload.wikimedia.org/wikipedia/commons/thumb/1/13/Jonas_Salk_1988.jpg/300px-Jonas_Salk_1988.jpg 1.5x, //upload.wikimedia.org/wikipedia/commons/thumb/1/13/Jonas_Salk_1988.jpg/400px-Jonas_Salk_1988.jpg 2x\" width=\"200\"/></a>,\n",
       " <a class=\"image\" href=\"/wiki/File:Salkws.jpg\"><img alt=\"\" class=\"thumbimage\" data-file-height=\"245\" data-file-width=\"140\" decoding=\"async\" height=\"245\" src=\"//upload.wikimedia.org/wikipedia/commons/7/71/Salkws.jpg\" width=\"140\"/></a>,\n",
       " <a class=\"image\" href=\"/wiki/File:Sida-aids.png\"><img alt=\"icon\" data-file-height=\"290\" data-file-width=\"290\" decoding=\"async\" height=\"19\" src=\"//upload.wikimedia.org/wikipedia/commons/thumb/2/2f/Sida-aids.png/19px-Sida-aids.png\" srcset=\"//upload.wikimedia.org/wikipedia/commons/thumb/2/2f/Sida-aids.png/29px-Sida-aids.png 1.5x, //upload.wikimedia.org/wikipedia/commons/thumb/2/2f/Sida-aids.png/38px-Sida-aids.png 2x\" width=\"19\"/></a>]"
      ]
     },
     "execution_count": 58,
     "metadata": {},
     "output_type": "execute_result"
    }
   ],
   "source": [
    "soup = bs4.BeautifulSoup(res.text,'lxml')\n",
    "soup.select('.image')"
   ]
  },
  {
   "cell_type": "code",
   "execution_count": 60,
   "metadata": {},
   "outputs": [
    {
     "data": {
      "text/plain": [
       "<a class=\"image\" href=\"/wiki/File:Jonas_Salk_candid.jpg\"><img alt=\"Jonas Salk candid.jpg\" data-file-height=\"1310\" data-file-width=\"1003\" decoding=\"async\" height=\"287\" src=\"//upload.wikimedia.org/wikipedia/commons/thumb/5/59/Jonas_Salk_candid.jpg/220px-Jonas_Salk_candid.jpg\" srcset=\"//upload.wikimedia.org/wikipedia/commons/thumb/5/59/Jonas_Salk_candid.jpg/330px-Jonas_Salk_candid.jpg 1.5x, //upload.wikimedia.org/wikipedia/commons/thumb/5/59/Jonas_Salk_candid.jpg/440px-Jonas_Salk_candid.jpg 2x\" width=\"220\"/></a>"
      ]
     },
     "execution_count": 60,
     "metadata": {},
     "output_type": "execute_result"
    }
   ],
   "source": [
    "soup.select('.image')[0]\n"
   ]
  },
  {
   "cell_type": "code",
   "execution_count": 61,
   "metadata": {},
   "outputs": [
    {
     "data": {
      "text/plain": [
       "{'parser_class': bs4.BeautifulSoup,\n",
       " 'name': 'a',\n",
       " 'namespace': None,\n",
       " '_namespaces': {'xml': 'http://www.w3.org/XML/1998/namespace'},\n",
       " 'prefix': None,\n",
       " 'known_xml': False,\n",
       " 'attrs': {'href': '/wiki/File:Jonas_Salk_candid.jpg', 'class': ['image']},\n",
       " 'contents': [<img alt=\"Jonas Salk candid.jpg\" data-file-height=\"1310\" data-file-width=\"1003\" decoding=\"async\" height=\"287\" src=\"//upload.wikimedia.org/wikipedia/commons/thumb/5/59/Jonas_Salk_candid.jpg/220px-Jonas_Salk_candid.jpg\" srcset=\"//upload.wikimedia.org/wikipedia/commons/thumb/5/59/Jonas_Salk_candid.jpg/330px-Jonas_Salk_candid.jpg 1.5x, //upload.wikimedia.org/wikipedia/commons/thumb/5/59/Jonas_Salk_candid.jpg/440px-Jonas_Salk_candid.jpg 2x\" width=\"220\"/>],\n",
       " 'parent': <td class=\"infobox-image\" colspan=\"2\"><a class=\"image\" href=\"/wiki/File:Jonas_Salk_candid.jpg\"><img alt=\"Jonas Salk candid.jpg\" data-file-height=\"1310\" data-file-width=\"1003\" decoding=\"async\" height=\"287\" src=\"//upload.wikimedia.org/wikipedia/commons/thumb/5/59/Jonas_Salk_candid.jpg/220px-Jonas_Salk_candid.jpg\" srcset=\"//upload.wikimedia.org/wikipedia/commons/thumb/5/59/Jonas_Salk_candid.jpg/330px-Jonas_Salk_candid.jpg 1.5x, //upload.wikimedia.org/wikipedia/commons/thumb/5/59/Jonas_Salk_candid.jpg/440px-Jonas_Salk_candid.jpg 2x\" width=\"220\"/></a><div class=\"infobox-caption\">Salk in 1959</div></td>,\n",
       " 'previous_element': <td class=\"infobox-image\" colspan=\"2\"><a class=\"image\" href=\"/wiki/File:Jonas_Salk_candid.jpg\"><img alt=\"Jonas Salk candid.jpg\" data-file-height=\"1310\" data-file-width=\"1003\" decoding=\"async\" height=\"287\" src=\"//upload.wikimedia.org/wikipedia/commons/thumb/5/59/Jonas_Salk_candid.jpg/220px-Jonas_Salk_candid.jpg\" srcset=\"//upload.wikimedia.org/wikipedia/commons/thumb/5/59/Jonas_Salk_candid.jpg/330px-Jonas_Salk_candid.jpg 1.5x, //upload.wikimedia.org/wikipedia/commons/thumb/5/59/Jonas_Salk_candid.jpg/440px-Jonas_Salk_candid.jpg 2x\" width=\"220\"/></a><div class=\"infobox-caption\">Salk in 1959</div></td>,\n",
       " 'next_element': <img alt=\"Jonas Salk candid.jpg\" data-file-height=\"1310\" data-file-width=\"1003\" decoding=\"async\" height=\"287\" src=\"//upload.wikimedia.org/wikipedia/commons/thumb/5/59/Jonas_Salk_candid.jpg/220px-Jonas_Salk_candid.jpg\" srcset=\"//upload.wikimedia.org/wikipedia/commons/thumb/5/59/Jonas_Salk_candid.jpg/330px-Jonas_Salk_candid.jpg 1.5x, //upload.wikimedia.org/wikipedia/commons/thumb/5/59/Jonas_Salk_candid.jpg/440px-Jonas_Salk_candid.jpg 2x\" width=\"220\"/>,\n",
       " 'next_sibling': <div class=\"infobox-caption\">Salk in 1959</div>,\n",
       " 'previous_sibling': None,\n",
       " 'hidden': False,\n",
       " 'can_be_empty_element': False,\n",
       " 'cdata_list_attributes': {'*': ['class', 'accesskey', 'dropzone'],\n",
       "  'a': ['rel', 'rev'],\n",
       "  'link': ['rel', 'rev'],\n",
       "  'td': ['headers'],\n",
       "  'th': ['headers'],\n",
       "  'form': ['accept-charset'],\n",
       "  'object': ['archive'],\n",
       "  'area': ['rel'],\n",
       "  'icon': ['sizes'],\n",
       "  'iframe': ['sandbox'],\n",
       "  'output': ['for']},\n",
       " 'preserve_whitespace_tags': {'pre', 'textarea'},\n",
       " 'interesting_string_types': (bs4.element.NavigableString, bs4.element.CData)}"
      ]
     },
     "execution_count": 61,
     "metadata": {},
     "output_type": "execute_result"
    }
   ],
   "source": [
    "soup.select('.image')[0].__dict__"
   ]
  },
  {
   "cell_type": "code",
   "execution_count": 64,
   "metadata": {},
   "outputs": [
    {
     "data": {
      "text/plain": [
       "dict_keys(['parser_class', 'name', 'namespace', '_namespaces', 'prefix', 'known_xml', 'attrs', 'contents', 'parent', 'previous_element', 'next_element', 'next_sibling', 'previous_sibling', 'hidden', 'can_be_empty_element', 'cdata_list_attributes', 'preserve_whitespace_tags', 'interesting_string_types'])"
      ]
     },
     "execution_count": 64,
     "metadata": {},
     "output_type": "execute_result"
    }
   ],
   "source": [
    "soup.select('.image')[0].__dict__.keys()"
   ]
  },
  {
   "cell_type": "code",
   "execution_count": 65,
   "metadata": {},
   "outputs": [],
   "source": [
    "image = soup.select('.image')[0].__dict__"
   ]
  },
  {
   "cell_type": "code",
   "execution_count": 66,
   "metadata": {},
   "outputs": [
    {
     "data": {
      "text/plain": [
       "[<img alt=\"Jonas Salk candid.jpg\" data-file-height=\"1310\" data-file-width=\"1003\" decoding=\"async\" height=\"287\" src=\"//upload.wikimedia.org/wikipedia/commons/thumb/5/59/Jonas_Salk_candid.jpg/220px-Jonas_Salk_candid.jpg\" srcset=\"//upload.wikimedia.org/wikipedia/commons/thumb/5/59/Jonas_Salk_candid.jpg/330px-Jonas_Salk_candid.jpg 1.5x, //upload.wikimedia.org/wikipedia/commons/thumb/5/59/Jonas_Salk_candid.jpg/440px-Jonas_Salk_candid.jpg 2x\" width=\"220\"/>]"
      ]
     },
     "execution_count": 66,
     "metadata": {},
     "output_type": "execute_result"
    }
   ],
   "source": [
    "image['contents']"
   ]
  },
  {
   "cell_type": "code",
   "execution_count": 75,
   "metadata": {},
   "outputs": [
    {
     "data": {
      "text/plain": [
       "['<img',\n",
       " 'alt=\"Jonas',\n",
       " 'Salk',\n",
       " 'candid.jpg\"',\n",
       " 'data-file-height=\"1310\"',\n",
       " 'data-file-width=\"1003\"',\n",
       " 'decoding=\"async\"',\n",
       " 'height=\"287\"',\n",
       " 'src=\"//upload.wikimedia.org/wikipedia/commons/thumb/5/59/Jonas_Salk_candid.jpg/220px-Jonas_Salk_candid.jpg\"',\n",
       " 'srcset=\"//upload.wikimedia.org/wikipedia/commons/thumb/5/59/Jonas_Salk_candid.jpg/330px-Jonas_Salk_candid.jpg',\n",
       " '1.5x,',\n",
       " '//upload.wikimedia.org/wikipedia/commons/thumb/5/59/Jonas_Salk_candid.jpg/440px-Jonas_Salk_candid.jpg',\n",
       " '2x\"',\n",
       " 'width=\"220\"/>']"
      ]
     },
     "execution_count": 75,
     "metadata": {},
     "output_type": "execute_result"
    }
   ],
   "source": [
    "def ret_string():\n",
    "    a = str()\n",
    "    for i in image['contents']:\n",
    "        a += str(i)\n",
    "    return a\n",
    "\n",
    "ret_string().split() \n",
    "#I know this is going nowhere! \n",
    "#But if you successfully scraped the source link, \n",
    "#It will look like this!"
   ]
  },
  {
   "cell_type": "markdown",
   "metadata": {},
   "source": [
    "<img src = \"//upload.wikimedia.org/wikipedia/commons/thumb/5/59/Jonas_Salk_candid.jpg/220px-Jonas_Salk_candid.jpg\">"
   ]
  },
  {
   "cell_type": "code",
   "execution_count": 76,
   "metadata": {},
   "outputs": [],
   "source": [
    "image_link = requests.get('https://upload.wikimedia.org/wikipedia/commons/thumb/5/59/Jonas_Salk_candid.jpg/220px-Jonas_Salk_candid.jpg')"
   ]
  },
  {
   "cell_type": "code",
   "execution_count": 80,
   "metadata": {},
   "outputs": [],
   "source": [
    "#image_link.content is in binary form that's why wb mode!\n",
    "with open ('professorpic.jpg','wb') as f:\n",
    "    f.write(image_link.content)\n",
    "    f.close\n",
    "\n",
    "#file is closed"
   ]
  }
 ],
 "metadata": {
  "kernelspec": {
   "display_name": "Python 3.10.5 64-bit",
   "language": "python",
   "name": "python3"
  },
  "language_info": {
   "codemirror_mode": {
    "name": "ipython",
    "version": 3
   },
   "file_extension": ".py",
   "mimetype": "text/x-python",
   "name": "python",
   "nbconvert_exporter": "python",
   "pygments_lexer": "ipython3",
   "version": "3.10.5"
  },
  "orig_nbformat": 4,
  "vscode": {
   "interpreter": {
    "hash": "e8899eb02dfbc033aab5733bdae1bd213fa031d40331094008e8673d99ebab63"
   }
  }
 },
 "nbformat": 4,
 "nbformat_minor": 2
}
